{
 "cells": [
  {
   "cell_type": "markdown",
   "id": "6b3033d1-5229-4a6e-b482-b28996fb812d",
   "metadata": {},
   "source": [
    "1) Print numbers from 1 to 5 using a while loop.\n",
    "\n",
    "2) Calculate the sum of numbers from 1 to 10 using a while loop.\n",
    "\n",
    "3) Calculate the factorial of a number using a for loop.\n",
    "\n",
    "4) Count the number of vowels in a string using a for loop.\n",
    "\n",
    "5) Print a pattern using nested loops.\n",
    "\n",
    "6) Generate a multiplication table using nested loops."
   ]
  },
  {
   "cell_type": "code",
   "execution_count": 1,
   "id": "aaa8754e-c71a-4355-902a-babfee2fc883",
   "metadata": {},
   "outputs": [
    {
     "name": "stdout",
     "output_type": "stream",
     "text": [
      "1\n",
      "2\n",
      "3\n",
      "4\n",
      "5\n"
     ]
    }
   ],
   "source": [
    "# 1) Solution:-\n",
    "\n",
    "# initialize a variable to start counting from 1\n",
    "count = 1\n",
    "\n",
    "#  using a while loop to print numbers from 1 to 5\n",
    "while count<=5:\n",
    "    print(count)\n",
    "    count+=1 #increment count to move to the next number"
   ]
  },
  {
   "cell_type": "code",
   "execution_count": 4,
   "id": "bc08a134-1add-4db6-9be1-f68e8cff5d2c",
   "metadata": {},
   "outputs": [
    {
     "name": "stdout",
     "output_type": "stream",
     "text": [
      "the The sum of numbers from 1 to 10 is: 55\n"
     ]
    }
   ],
   "source": [
    "# 2) Solution:- \n",
    "\n",
    "# initilize variable\n",
    "sum_of_numbers=0\n",
    "current_number=1\n",
    "# by using while loop to calculate the sum of numbers from 1 to 10\n",
    "\n",
    "while current_number<=10:\n",
    "    sum_of_numbers+=current_number\n",
    "    current_number+=1\n",
    "# print the sum\n",
    "print(\"the The sum of numbers from 1 to 10 is:\", sum_of_numbers)"
   ]
  },
  {
   "cell_type": "code",
   "execution_count": 5,
   "id": "8e057c4d-6450-4d1e-a3c6-0790004e8290",
   "metadata": {},
   "outputs": [
    {
     "name": "stdout",
     "output_type": "stream",
     "text": [
      "The factorial of 5 is: 120\n"
     ]
    }
   ],
   "source": [
    "# 3) Solution:- \n",
    "\n",
    "# Function to calculate factorial\n",
    "def factorial(n):\n",
    "    # Initialize the factorial variable to store the result\n",
    "    factorial_result = 1\n",
    "    \n",
    "    # Using a for loop to iterate from 1 to n (inclusive)\n",
    "    for i in range(1, n + 1):\n",
    "        # Multiply factorial_result by each number from 1 to n\n",
    "        factorial_result *= i\n",
    "    \n",
    "    # Return the factorial_result\n",
    "    return factorial_result\n",
    "\n",
    "# Example: Calculate the factorial of a number (e.g., 5)\n",
    "number = 5\n",
    "result = factorial(number)\n",
    "print(\"The factorial of\", number, \"is:\", result)\n"
   ]
  },
  {
   "cell_type": "code",
   "execution_count": 6,
   "id": "075e6311-3d32-4f4c-ae5a-95d8080dec58",
   "metadata": {},
   "outputs": [
    {
     "name": "stdout",
     "output_type": "stream",
     "text": [
      "The number of vowels in the string is: 3\n"
     ]
    }
   ],
   "source": [
    "# 4)Solution:-\n",
    "\n",
    "# Function to count vowels in a string\n",
    "def count_vowels(string):\n",
    "    # Initialize a variable to store the count of vowels\n",
    "    vowel_count = 0\n",
    "    \n",
    "    # Define the set of vowels\n",
    "    vowels = \"aeiouAEIOU\"\n",
    "    \n",
    "    # Iterate through each character in the string\n",
    "    for char in string:\n",
    "        # Check if the character is a vowel\n",
    "        if char in vowels:\n",
    "            # If it is, increment the vowel count\n",
    "            vowel_count += 1\n",
    "    \n",
    "    # Return the total count of vowels\n",
    "    return vowel_count\n",
    "\n",
    "# Example: Count vowels in a string\n",
    "input_string = \"Hello, World!\"\n",
    "vowel_count = count_vowels(input_string)\n",
    "print(\"The number of vowels in the string is:\", vowel_count)\n"
   ]
  },
  {
   "cell_type": "code",
   "execution_count": 7,
   "id": "4d822075-aad0-44d3-930b-5d8a29d4004b",
   "metadata": {},
   "outputs": [
    {
     "name": "stdout",
     "output_type": "stream",
     "text": [
      "* \n",
      "* * \n",
      "* * * \n",
      "* * * * \n",
      "* * * * * \n"
     ]
    }
   ],
   "source": [
    "# 5) Solution:-\n",
    "# Define the number of rows for the pattern\n",
    "num_rows = 5\n",
    "\n",
    "# Outer loop for rows\n",
    "for i in range(num_rows):\n",
    "    # Inner loop for columns\n",
    "    for j in range(i + 1):\n",
    "        print(\"*\", end=\" \")  # Print \"*\" for each column\n",
    "    print()  # Move to the next line after printing each row\n"
   ]
  },
  {
   "cell_type": "code",
   "execution_count": 10,
   "id": "a13deedc-1275-42cf-8bbb-862726a9166c",
   "metadata": {},
   "outputs": [
    {
     "name": "stdout",
     "output_type": "stream",
     "text": [
      "1\t2\t3\t4\t5\t6\t7\t8\t9\t10\t\n",
      "2\t4\t6\t8\t10\t12\t14\t16\t18\t20\t\n",
      "3\t6\t9\t12\t15\t18\t21\t24\t27\t30\t\n",
      "4\t8\t12\t16\t20\t24\t28\t32\t36\t40\t\n",
      "5\t10\t15\t20\t25\t30\t35\t40\t45\t50\t\n",
      "6\t12\t18\t24\t30\t36\t42\t48\t54\t60\t\n",
      "7\t14\t21\t28\t35\t42\t49\t56\t63\t70\t\n",
      "8\t16\t24\t32\t40\t48\t56\t64\t72\t80\t\n",
      "9\t18\t27\t36\t45\t54\t63\t72\t81\t90\t\n",
      "10\t20\t30\t40\t50\t60\t70\t80\t90\t100\t\n"
     ]
    }
   ],
   "source": [
    "# 6) Solution:-\n",
    "\n",
    "table_size =10\n",
    "\n",
    "for i in range(1, table_size+1):\n",
    "    for j in range(1, table_size+1):\n",
    "        product = i*j\n",
    "        print(product, end=\"\\t\")\n",
    "    print()    "
   ]
  },
  {
   "cell_type": "code",
   "execution_count": null,
   "id": "c005df7e-2d48-4b49-aca4-82acfc2d97db",
   "metadata": {},
   "outputs": [],
   "source": []
  }
 ],
 "metadata": {
  "kernelspec": {
   "display_name": "Python 3 (ipykernel)",
   "language": "python",
   "name": "python3"
  },
  "language_info": {
   "codemirror_mode": {
    "name": "ipython",
    "version": 3
   },
   "file_extension": ".py",
   "mimetype": "text/x-python",
   "name": "python",
   "nbconvert_exporter": "python",
   "pygments_lexer": "ipython3",
   "version": "3.10.8"
  }
 },
 "nbformat": 4,
 "nbformat_minor": 5
}
