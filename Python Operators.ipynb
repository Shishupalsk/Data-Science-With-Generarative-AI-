{
 "cells": [
  {
   "cell_type": "markdown",
   "id": "aeae080d-e86a-435a-99f3-0c6f17087b85",
   "metadata": {},
   "source": [
    "1. Calculate the sum, difference, product, and quotient of two numbers.\n",
    "\n",
    "2. Perform various assignment operations on a variable.\n",
    "\n",
    "3. Compare two numbers and print the results.\n",
    "\n",
    "4. Check conditions using logical operators.\n",
    "\n",
    "5. Check the identity of variables.\n",
    "\n",
    "6. Perform bitwise operations on any two integers.\n",
    "\n",
    "7. Use unary operators to change the sign of a number.\n",
    "\n",
    "8. Use the ternary operator to assign values based on conditions."
   ]
  },
  {
   "cell_type": "code",
   "execution_count": 1,
   "id": "acfcacd4-2d1a-4cc3-8ae1-168df9f46905",
   "metadata": {},
   "outputs": [
    {
     "name": "stdout",
     "output_type": "stream",
     "text": [
      "sum:  15\n",
      "difference:  5\n",
      "product:  50\n",
      "quotient:  2.0\n"
     ]
    }
   ],
   "source": [
    "# 1) Solution :-\n",
    "\n",
    "# Assume you have two numbers\n",
    "a = 10\n",
    "b = 5\n",
    "\n",
    "# calculate the sum\n",
    "sum_result = a + b\n",
    "\n",
    "# calculate the difference\n",
    "difference_result = a - b\n",
    "\n",
    "# calculate the product\n",
    "product_result = a * b\n",
    "\n",
    "# calculate the quotient\n",
    "quotient_result = a / b\n",
    "\n",
    "# Display the results\n",
    "print(\"sum: \", sum_result)\n",
    "print(\"difference: \", difference_result)\n",
    "print(\"product: \", product_result)\n",
    "print(\"quotient: \", quotient_result)"
   ]
  },
  {
   "cell_type": "code",
   "execution_count": 2,
   "id": "4d0dad8a-35c3-421b-bbc7-35597ee76a8c",
   "metadata": {},
   "outputs": [
    {
     "name": "stdout",
     "output_type": "stream",
     "text": [
      "After addition assignment: 15\n",
      "After subtraction assignment: 12\n",
      "After multiplication assignment: 24\n",
      "After division assignment: 6.0\n",
      "After modulus assignment: 0.0\n",
      "After exponentiation assignment: 0.0\n"
     ]
    }
   ],
   "source": [
    "# 2) Solution:- \n",
    "\n",
    "# Initialize a variable\n",
    "x = 10\n",
    "\n",
    "# Addition assignment\n",
    "x += 5  # Equivalent to x = x + 5\n",
    "print(\"After addition assignment:\", x)\n",
    "\n",
    "# Subtraction assignment\n",
    "x -= 3  # Equivalent to x = x - 3\n",
    "print(\"After subtraction assignment:\", x)\n",
    "\n",
    "# Multiplication assignment\n",
    "x *= 2  # Equivalent to x = x * 2\n",
    "print(\"After multiplication assignment:\", x)\n",
    "\n",
    "# Division assignment\n",
    "x /= 4  # Equivalent to x = x / 4\n",
    "print(\"After division assignment:\", x)\n",
    "\n",
    "# Modulus assignment\n",
    "x %= 3  # Equivalent to x = x % 3\n",
    "print(\"After modulus assignment:\", x)\n",
    "\n",
    "# Exponentiation assignment\n",
    "x **= 2  # Equivalent to x = x ** 2\n",
    "print(\"After exponentiation assignment:\", x)\n"
   ]
  },
  {
   "cell_type": "code",
   "execution_count": 3,
   "id": "b9204609-e3be-40e0-93ea-d3a7dc267f0f",
   "metadata": {},
   "outputs": [
    {
     "name": "stdout",
     "output_type": "stream",
     "text": [
      "10 is equal to 5: False\n",
      "10 is not equal to 5: True\n",
      "10 is greater than 5: True\n",
      "10 is less than 5: False\n",
      "10 is greater than or equal to 5: True\n",
      "10 is less than or equal to 5: False\n"
     ]
    }
   ],
   "source": [
    "# 3) Solution :-\n",
    "\n",
    "# Assume you have two numbers\n",
    "a = 10\n",
    "b = 5\n",
    "\n",
    "# Comparison operations\n",
    "is_equal = a == b\n",
    "is_not_equal = a != b\n",
    "is_greater_than = a > b\n",
    "is_less_than = a < b\n",
    "is_greater_than_or_equal = a >= b\n",
    "is_less_than_or_equal = a <= b\n",
    "\n",
    "# Print the results\n",
    "print(f\"{a} is equal to {b}: {is_equal}\")\n",
    "print(f\"{a} is not equal to {b}: {is_not_equal}\")\n",
    "print(f\"{a} is greater than {b}: {is_greater_than}\")\n",
    "print(f\"{a} is less than {b}: {is_less_than}\")\n",
    "print(f\"{a} is greater than or equal to {b}: {is_greater_than_or_equal}\")\n",
    "print(f\"{a} is less than or equal to {b}: {is_less_than_or_equal}\")\n"
   ]
  },
  {
   "cell_type": "code",
   "execution_count": 4,
   "id": "b15d2c47-b512-4219-b1d4-e6b4734d31a9",
   "metadata": {},
   "outputs": [
    {
     "name": "stdout",
     "output_type": "stream",
     "text": [
      "Result of (a > 5) and (b < 8): True\n",
      "Result of (a > 15) or (b < 3): False\n",
      "Result of not (a == b): True\n"
     ]
    }
   ],
   "source": [
    "# 4) Solution:-\n",
    "\n",
    "# Assume you have two numbers\n",
    "a = 10\n",
    "b = 5\n",
    "\n",
    "# Logical AND\n",
    "result_and = (a > 5) and (b < 8)\n",
    "\n",
    "# Logical OR\n",
    "result_or = (a > 15) or (b < 3)\n",
    "\n",
    "# Logical NOT\n",
    "result_not = not (a == b)\n",
    "\n",
    "# Print the results\n",
    "print(f\"Result of (a > 5) and (b < 8): {result_and}\")\n",
    "print(f\"Result of (a > 15) or (b < 3): {result_or}\")\n",
    "print(f\"Result of not (a == b): {result_not}\")\n"
   ]
  },
  {
   "cell_type": "code",
   "execution_count": 5,
   "id": "bae243d2-8505-4453-ab9e-6e6b23df328b",
   "metadata": {},
   "outputs": [
    {
     "name": "stdout",
     "output_type": "stream",
     "text": [
      "x is the same object as y: False\n",
      "x is not the same object as y: True\n",
      "x is the same object as z: True\n"
     ]
    }
   ],
   "source": [
    "# 5) Solution :-\n",
    "\n",
    "# Assume you have two variables\n",
    "x = [1, 2, 3]\n",
    "y = [1, 2, 3]\n",
    "z = x\n",
    "\n",
    "# Check identity\n",
    "is_x_same_as_y = x is y\n",
    "is_x_not_same_as_y = x is not y\n",
    "is_x_same_as_z = x is z\n",
    "\n",
    "# Print the results\n",
    "print(f\"x is the same object as y: {is_x_same_as_y}\")\n",
    "print(f\"x is not the same object as y: {is_x_not_same_as_y}\")\n",
    "print(f\"x is the same object as z: {is_x_same_as_z}\")\n"
   ]
  },
  {
   "cell_type": "code",
   "execution_count": 6,
   "id": "402beee4-2e7a-432d-9c16-ee0533ad919c",
   "metadata": {},
   "outputs": [
    {
     "name": "stdout",
     "output_type": "stream",
     "text": [
      "Bitwise AND (a & b): 0\n",
      "Bitwise OR (a | b): 15\n",
      "Bitwise XOR (a ^ b): 15\n",
      "Bitwise left shift (a << 2): 40\n",
      "Bitwise right shift (a >> 2): 2\n"
     ]
    }
   ],
   "source": [
    "# 6) Solution :-\n",
    "\n",
    "# Assume you have two integers\n",
    "a = 10\n",
    "b = 5\n",
    "\n",
    "# Bitwise AND\n",
    "result_and = a & b\n",
    "\n",
    "# Bitwise OR\n",
    "result_or = a | b\n",
    "\n",
    "# Bitwise XOR\n",
    "result_xor = a ^ b\n",
    "\n",
    "# Bitwise left shift\n",
    "result_left_shift = a << 2\n",
    "\n",
    "# Bitwise right shift\n",
    "result_right_shift = a >> 2\n",
    "\n",
    "# Print the results\n",
    "print(f\"Bitwise AND (a & b): {result_and}\")\n",
    "print(f\"Bitwise OR (a | b): {result_or}\")\n",
    "print(f\"Bitwise XOR (a ^ b): {result_xor}\")\n",
    "print(f\"Bitwise left shift (a << 2): {result_left_shift}\")\n",
    "print(f\"Bitwise right shift (a >> 2): {result_right_shift}\")\n"
   ]
  },
  {
   "cell_type": "code",
   "execution_count": 8,
   "id": "0eb3ba12-0633-4043-b3f7-2704b8a48277",
   "metadata": {},
   "outputs": [
    {
     "name": "stdout",
     "output_type": "stream",
     "text": [
      "Original number: 7\n",
      "Number with changed sign: -7\n"
     ]
    }
   ],
   "source": [
    "# 7) Solution :-\n",
    "\n",
    "# Assume you have a number\n",
    "number = 7\n",
    "\n",
    "# Change the sign using unary minus\n",
    "negative_number = -number\n",
    "\n",
    "# Print the results\n",
    "print(f\"Original number: {number}\")\n",
    "print(f\"Number with changed sign: {negative_number}\")\n"
   ]
  },
  {
   "cell_type": "code",
   "execution_count": 9,
   "id": "06f14ff4-b550-42f8-9087-a63f1a114ebd",
   "metadata": {},
   "outputs": [
    {
     "name": "stdout",
     "output_type": "stream",
     "text": [
      "Value is True\n"
     ]
    }
   ],
   "source": [
    "# 8) Solution :-\n",
    "\n",
    "# Assume you have a condition\n",
    "condition = True\n",
    "\n",
    "# Ternary operator to assign values based on the condition\n",
    "result = \"Value is True\" if condition else \"Value is False\"\n",
    "\n",
    "# Print the result\n",
    "print(result)\n"
   ]
  },
  {
   "cell_type": "code",
   "execution_count": null,
   "id": "258bf3f9-b6a8-4d8d-9372-082707f591b1",
   "metadata": {},
   "outputs": [],
   "source": []
  }
 ],
 "metadata": {
  "kernelspec": {
   "display_name": "Python 3 (ipykernel)",
   "language": "python",
   "name": "python3"
  },
  "language_info": {
   "codemirror_mode": {
    "name": "ipython",
    "version": 3
   },
   "file_extension": ".py",
   "mimetype": "text/x-python",
   "name": "python",
   "nbconvert_exporter": "python",
   "pygments_lexer": "ipython3",
   "version": "3.10.8"
  }
 },
 "nbformat": 4,
 "nbformat_minor": 5
}
