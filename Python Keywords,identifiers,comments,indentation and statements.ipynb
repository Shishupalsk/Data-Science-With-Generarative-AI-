{
 "cells": [
  {
   "cell_type": "markdown",
   "id": "5ed915bb-fc29-4846-bfff-94994101e5a7",
   "metadata": {},
   "source": [
    "1) Explain the significance of Python keywords and provide examples of five keywords.\n",
    "\n",
    "2) Describe the rules for defining identifiers in Python and provide an example.\n",
    " \n",
    "3) What are comments in Python, and why are they useful? Provide an example.\n",
    " \n",
    "4) Why is proper indentation important in Python?\n",
    " \n",
    "5) What happens if indentation is incorrect in Python?\n",
    " \n",
    "6) Differentiate between expression and statement in Python with examples."
   ]
  },
  {
   "cell_type": "code",
   "execution_count": 14,
   "id": "9d868048-a509-4de7-aa49-745c86a8c549",
   "metadata": {},
   "outputs": [
    {
     "name": "stdout",
     "output_type": "stream",
     "text": [
      "x is greater than 5\n"
     ]
    }
   ],
   "source": [
    "# 1) Solution:- \n",
    "\n",
    "'''Python keywords are reserved words that have special meanings and\n",
    "purposes in the Python programming language.These keywords cannot be \n",
    "used as identifiers (such as variable names or function names) because \n",
    "they are already predefined by the language syntax. Understanding and\n",
    "properly using Python keywords is crucial for writing correct and \n",
    "efficient code.\n",
    "\n",
    "Here are five examples of Python keywords along with brief \n",
    "explanations of their significance:'''\n",
    "\n",
    "# i)if:\n",
    "x=6\n",
    "if x > 5:\n",
    "    print(\"x is greater than 5\")\n",
    "    "
   ]
  },
  {
   "cell_type": "code",
   "execution_count": 15,
   "id": "22b3a4d7-4924-49aa-84e5-315a25dc686e",
   "metadata": {},
   "outputs": [
    {
     "name": "stdout",
     "output_type": "stream",
     "text": [
      "0\n",
      "1\n",
      "2\n",
      "3\n",
      "4\n"
     ]
    }
   ],
   "source": [
    "# ii) for:\n",
    "for i in range(5):\n",
    "    print(i)\n"
   ]
  },
  {
   "cell_type": "code",
   "execution_count": 16,
   "id": "d50b8096-77c0-4f74-88f0-bb1b58f456c4",
   "metadata": {},
   "outputs": [
    {
     "name": "stdout",
     "output_type": "stream",
     "text": [
      "0\n",
      "1\n",
      "2\n",
      "3\n",
      "4\n"
     ]
    }
   ],
   "source": [
    "# iii) while:\n",
    "x=0\n",
    "while x<5:\n",
    "    print(x)\n",
    "    x+=1"
   ]
  },
  {
   "cell_type": "code",
   "execution_count": 22,
   "id": "3d47f54b-a79f-4691-9f42-d4658f55c2b1",
   "metadata": {},
   "outputs": [],
   "source": [
    "# iv) def:\n",
    "def greet(name):\n",
    "    print(\"hello, \"+ name + \"!\")"
   ]
  },
  {
   "cell_type": "code",
   "execution_count": 23,
   "id": "f9b2f5b4-fb28-48f8-ab64-2a8618990034",
   "metadata": {},
   "outputs": [],
   "source": [
    "# v) class:\n",
    "class Dog:\n",
    "    def __init__(self,name):\n",
    "        self.name=name\n",
    "    def bark(self):\n",
    "        print(self.name +\"says woof!\")"
   ]
  },
  {
   "cell_type": "code",
   "execution_count": null,
   "id": "3d796288-ba00-495c-8798-396e321dd3ec",
   "metadata": {},
   "outputs": [],
   "source": [
    "# 2) Solution:- \n",
    "\n",
    "\"\"\" In Python, identifiers are names given to various elements in \n",
    "a program such as variables, functions, classes, modules, etc. \n",
    "Identifiers are used to uniquely identify these elements within\n",
    "the program. Here are the rules for defining identifiers in Python:\n",
    "\n",
    "i) Valid Characters: Identifiers can consist of alphanumeric characters \n",
    "(a-z, A-Z, 0-9) and the underscore (_). They cannot start with a digit.\n",
    "\n",
    "ii) Case Sensitivity: Python is case-sensitive, meaning uppercase and \n",
    "lowercase letters are considered different. So, 'myVar', 'MyVar', and\n",
    "'myvar' would be considered different identifiers.\n",
    "\n",
    "iii) Reserved Keywords: Identifiers cannot be the same as Python \n",
    "keywords or reserved words.\n",
    "\n",
    "iv) Length: There is no limit on the length of identifiers, but \n",
    "it's good practice to keep them meaningful and reasonably short.\n",
    "\n",
    "v) Length: There is no limit on the length of identifiers, but it's\n",
    "good practice to keep them meaningful and reasonably short.\n",
    "\n",
    "vi) Cannot Contain Special Characters: Identifiers cannot contain\n",
    "special characters such as !, @, #, $, %, etc. except for the \n",
    "underscore (_).\n",
    "\n",
    "vii) Cannot Contain Spaces: Identifiers cannot contain spaces.\n",
    "Use underscores (_) instead.\"\"\"\n",
    "\n",
    "\n",
    "# Valid Identifiers\n",
    "my_variable = 42\n",
    "myVar = \"Hello\"\n",
    "_underscore_identifier = True\n",
    "class_name = \"Example\"\n",
    "function123 = lambda x: x * 2\n",
    "\n",
    "# Invalid Identifiers\n",
    "123variable = 5  # Cannot start with a digit\n",
    "my-variable = 10  # Cannot contain hyphens\n",
    "class = \"Python\"  # Cannot be a reserved keyword\n",
    "\n"
   ]
  },
  {
   "cell_type": "code",
   "execution_count": 25,
   "id": "c78685d2-9156-4bad-9228-4f9a734c6d7a",
   "metadata": {},
   "outputs": [
    {
     "name": "stdout",
     "output_type": "stream",
     "text": [
      "The sum is: 30\n"
     ]
    }
   ],
   "source": [
    "# 3) Solution:- \n",
    "\n",
    "\"\"\"Comments are useful for several reasons:\n",
    "\n",
    "1) Documentation: Comments can provide documentation about the purpose,\n",
    "behavior, or logic of the code, making it easier for others to \n",
    "understand how the code works.\n",
    "\n",
    "2) Clarification: Comments can clarify complex or obscure parts of the\n",
    "code, making it easier to understand the intention behind certain \n",
    "operations.\n",
    "\n",
    "3) Debugging: Comments can be used to temporarily disable or \"comment \n",
    "out\" lines of code for debugging purposes, without actually removing \n",
    "them from the codebase.\n",
    "\n",
    "4) Communication: Comments allow developers to communicate with each\n",
    "other within the codebase, providing insights, warnings, or reminders \n",
    "about certain aspects of the code.\"\"\"\n",
    "\n",
    "\n",
    "# This is a single-line comment\n",
    "\n",
    "'''\n",
    "This is a multi-line comment.\n",
    "It spans multiple lines and can provide\n",
    "detailed explanations or documentation.\n",
    "'''\n",
    "\n",
    "# Calculate the sum of two numbers\n",
    "a = 10  # Assigning value to variable a\n",
    "b = 20  # Assigning value to variable b\n",
    "sum = a + b  # Adding a and b to get the sum\n",
    "print(\"The sum is:\", sum)  # Printing the sum\n"
   ]
  },
  {
   "cell_type": "code",
   "execution_count": 14,
   "id": "9755281a-fef8-48e2-a547-465c1803d821",
   "metadata": {
    "scrolled": true,
    "tags": []
   },
   "outputs": [
    {
     "data": {
      "text/plain": [
       "'Proper indentation in Python is essential for code readability,syntax correctness, defining code blocks, maintaining consistency,and aiding in debugging. It visually represents the structure of the code and is a fundamental aspect of Python syntax.'"
      ]
     },
     "execution_count": 14,
     "metadata": {},
     "output_type": "execute_result"
    }
   ],
   "source": [
    "# 4) Solution :-\n",
    "\n",
    "\"\"\"Proper indentation in Python is essential for code readability,\\\n",
    "syntax correctness, defining code blocks, maintaining consistency,\\\n",
    "and aiding in debugging. It visually represents the structure of the \\\n",
    "code and is a fundamental aspect of Python syntax.\"\"\""
   ]
  },
  {
   "cell_type": "code",
   "execution_count": 15,
   "id": "c81fd398-9a4f-4189-ab0c-20285d16d09b",
   "metadata": {},
   "outputs": [
    {
     "data": {
      "text/plain": [
       "'Incorrect indentation in Python leads to syntax errors,misinterpretation of code, resulting in incorrect program behavior and debugging difficulties. It also reduces code readability, hindering collaboration and maintenance efforts.'"
      ]
     },
     "execution_count": 15,
     "metadata": {},
     "output_type": "execute_result"
    }
   ],
   "source": [
    "# 5) Solution:-\n",
    "\"\"\"Incorrect indentation in Python leads to syntax errors,\\\n",
    "misinterpretation of code, resulting in incorrect program behavior \\\n",
    "and debugging difficulties. It also reduces code readability, \\\n",
    "hindering collaboration and maintenance efforts.\"\"\""
   ]
  },
  {
   "cell_type": "code",
   "execution_count": 29,
   "id": "db0b7aa7-e31b-4e45-b4c1-062db558f0db",
   "metadata": {},
   "outputs": [
    {
     "name": "stdout",
     "output_type": "stream",
     "text": [
      "a is greater than 5\n",
      "0\n",
      "1\n",
      "2\n",
      "3\n",
      "4\n"
     ]
    }
   ],
   "source": [
    "# 6) Solution:-\n",
    "\n",
    "'''Expression: An expression is any valid combination of literals,\n",
    "variables, operators, and function calls that evaluates to a single\n",
    "value. Examples include arithmetic expressions, function calls, and \n",
    "list comprehensions.'''\n",
    "\n",
    "# Examples of expressions\n",
    "x = 10 + 5  # Arithmetic expression\n",
    "y = len(\"Hello, world!\")  # Function call expression\n",
    "z = [i * 2 for i in range(5)]  # List comprehension expression\n",
    "\n",
    "\"\"\"Statement: A statement is a complete instruction that performs an \n",
    "action or controls the execution flow of the program. Examples include\n",
    "assignment statements, control flow statements (if, for, while), and\n",
    "import statements.\"\"\"\n",
    "\n",
    "# Examples of statements\n",
    "a = 10  # Assignment statement\n",
    "if a > 5:  # Control flow statement\n",
    "    print(\"a is greater than 5\")\n",
    "for i in range(5):  # Control flow statement\n",
    "    print(i)\n",
    "\n"
   ]
  },
  {
   "cell_type": "code",
   "execution_count": null,
   "id": "a081bd8b-ea8b-490a-aa2e-ecfdb8ba97c3",
   "metadata": {},
   "outputs": [],
   "source": []
  }
 ],
 "metadata": {
  "kernelspec": {
   "display_name": "Python 3 (ipykernel)",
   "language": "python",
   "name": "python3"
  },
  "language_info": {
   "codemirror_mode": {
    "name": "ipython",
    "version": 3
   },
   "file_extension": ".py",
   "mimetype": "text/x-python",
   "name": "python",
   "nbconvert_exporter": "python",
   "pygments_lexer": "ipython3",
   "version": "3.10.8"
  }
 },
 "nbformat": 4,
 "nbformat_minor": 5
}
