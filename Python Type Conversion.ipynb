{
 "cells": [
  {
   "cell_type": "markdown",
   "id": "47575503-ba88-48ca-b637-236d79ad754b",
   "metadata": {},
   "source": [
    "1. Covert a iteger to a floatig-poit umber.\n",
    "2. Covert a float to a iteger.\n",
    "3. Covert a iteger to a string.\n",
    "4. Covert a list to a tuple.\n",
    "5.  Convert a tuple to a list.\n",
    "6. Convert a decimal number to binary.\n",
    "7. Convert a non-zero number to boolean.Covert a iteger to a floatig-poit umber."
   ]
  },
  {
   "cell_type": "code",
   "execution_count": 1,
   "id": "eba957ba-9b12-47d2-b337-dc0964b88600",
   "metadata": {},
   "outputs": [
    {
     "name": "stdout",
     "output_type": "stream",
     "text": [
      "42.0\n"
     ]
    }
   ],
   "source": [
    "# 1) Solution:- \n",
    "\n",
    "integer_value =42\n",
    "float_value = float(integer_value)\n",
    "print(float_value)"
   ]
  },
  {
   "cell_type": "code",
   "execution_count": 2,
   "id": "4805ddeb-e7dc-4c28-bbeb-df83d77cbf23",
   "metadata": {},
   "outputs": [
    {
     "name": "stdout",
     "output_type": "stream",
     "text": [
      "42\n"
     ]
    }
   ],
   "source": [
    "# 2) Solution:-\n",
    "\n",
    "float_value = 42.75\n",
    "integer_value = int(float_value)\n",
    "print(integer_value)"
   ]
  },
  {
   "cell_type": "code",
   "execution_count": 13,
   "id": "cd91956d-d25e-4c47-89ce-0718883d344b",
   "metadata": {},
   "outputs": [
    {
     "name": "stdout",
     "output_type": "stream",
     "text": [
      "42\n",
      "<class 'str'>\n"
     ]
    }
   ],
   "source": [
    "# 3) Solution :-\n",
    "\n",
    "integer_value = 42\n",
    "string_value = str(integer_value)\n",
    "print(string_value)\n",
    "print(type(string_value))"
   ]
  },
  {
   "cell_type": "code",
   "execution_count": 14,
   "id": "ec6d8c7e-2516-4494-8cd8-86c3bb320ba9",
   "metadata": {},
   "outputs": [
    {
     "name": "stdout",
     "output_type": "stream",
     "text": [
      "(1, 5, 8, 9, 10, 0)\n"
     ]
    }
   ],
   "source": [
    "# 4) Solution:- \n",
    "\n",
    "my_list = [1,5,8,9,10,0]\n",
    "my_tuple = tuple(my_list)\n",
    "print(my_tuple)"
   ]
  },
  {
   "cell_type": "code",
   "execution_count": 15,
   "id": "89fe5203-9289-4189-9bc5-ab006c8d6475",
   "metadata": {},
   "outputs": [
    {
     "name": "stdout",
     "output_type": "stream",
     "text": [
      "[1, 2, 35, 7, 88, 7]\n"
     ]
    }
   ],
   "source": [
    "# 5) Solution :-\n",
    "\n",
    "my_tuple = (1,2,35,7,88,7)\n",
    "my_list = list(my_tuple)\n",
    "print(my_list)"
   ]
  },
  {
   "cell_type": "code",
   "execution_count": 16,
   "id": "0b640495-b32d-4238-9802-08602045ba63",
   "metadata": {},
   "outputs": [
    {
     "name": "stdout",
     "output_type": "stream",
     "text": [
      "0b101010\n"
     ]
    }
   ],
   "source": [
    "# 6) Solution :-\n",
    "\n",
    "decimal_number = 42\n",
    "binary_representation = bin(decimal_number)\n",
    "print(binary_representation)"
   ]
  },
  {
   "cell_type": "code",
   "execution_count": 19,
   "id": "97a1c457-3726-4036-b827-6c9427d03027",
   "metadata": {},
   "outputs": [
    {
     "name": "stdout",
     "output_type": "stream",
     "text": [
      "True\n",
      "50.0\n"
     ]
    }
   ],
   "source": [
    "# 7) Solution :- \n",
    "\n",
    "non_zero_number = 40\n",
    "boolean_value = bool(non_zero_number)\n",
    "print(boolean_value)\n",
    "\n",
    "integer_value = 50\n",
    "float_value = float(integer_value)\n",
    "print(float_value)\n"
   ]
  },
  {
   "cell_type": "code",
   "execution_count": null,
   "id": "292f6c06-12df-42c5-a9da-fcd71890dfb5",
   "metadata": {},
   "outputs": [],
   "source": []
  }
 ],
 "metadata": {
  "kernelspec": {
   "display_name": "Python 3 (ipykernel)",
   "language": "python",
   "name": "python3"
  },
  "language_info": {
   "codemirror_mode": {
    "name": "ipython",
    "version": 3
   },
   "file_extension": ".py",
   "mimetype": "text/x-python",
   "name": "python",
   "nbconvert_exporter": "python",
   "pygments_lexer": "ipython3",
   "version": "3.10.8"
  }
 },
 "nbformat": 4,
 "nbformat_minor": 5
}
